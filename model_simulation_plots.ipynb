{
 "cells": [
  {
   "cell_type": "code",
   "execution_count": 1,
   "metadata": {},
   "outputs": [
    {
     "data": {
      "text/plain": [
       "<Figure size 72x72 with 0 Axes>"
      ]
     },
     "metadata": {},
     "output_type": "display_data"
    }
   ],
   "source": [
    "import importlib\n",
    "import numpy as np\n",
    "from scipy import stats\n",
    "from tabulate import tabulate\n",
    "import pandas as pd\n",
    "import os\n",
    "import itertools\n",
    "\n",
    "import matplotlib.pyplot as plt\n",
    "from matplotlib import cm\n",
    "import seaborn as sns\n",
    "import matplotlib\n",
    "\n",
    "from simulate_model import simulate\n",
    "import simulate_Jordan_model as simulate_Jordan\n",
    "from utils import joint_density\n",
    "\n",
    "plt.rcParams.update({'font.size': 16})"
   ]
  },
  {
   "cell_type": "code",
   "execution_count": 2,
   "metadata": {},
   "outputs": [],
   "source": [
    "def simulate_model(config_name):\n",
    "    config_module = importlib.import_module(f\"configs.{config_name}\")\n",
    "    config = config_module.get_config()\n",
    "    N_configs = len(config)\n",
    "\n",
    "    alpha_range = np.arange(0,10,0.1)\n",
    "    available_actions = {key: config[key]['available_actions'] for key in config.keys()}\n",
    "    alpha_selfish_set = {key: alpha_range for key in config.keys()}\n",
    "    alpha_social_set = {key: alpha_range for key in config.keys()}\n",
    "    alpha_target = {key: config[key]['alpha_target'] for key in config.keys()}\n",
    "    selfish_utilities = {key: config_module.get_selfish_utilities(key, available_actions[key]) for key in config.keys()}\n",
    "    social_utilities = {key: config_module.get_social_utilities(key, available_actions[key]) for key in config.keys()}\n",
    "    target_utilities = {key: config_module.get_target_utilities(key, available_actions[key]) for key in config.keys()}\n",
    "    \n",
    "    alpha_prior = joint_density.JointIndependent([stats.expon(scale=1/(1/3)),   # prior over alpha_selfish\n",
    "                                                  stats.uniform(0, 10)])  # prior over alpha_social\n",
    "    \n",
    "    alpha_prior_discretized = {}\n",
    "    for alpha_selfish in alpha_range:\n",
    "        for alpha_social in alpha_range: \n",
    "            alpha_prior_discretized[(alpha_selfish, alpha_social)] = alpha_prior.pdf((alpha_selfish, alpha_social))\n",
    "    normalizing_factor = np.sum(list(alpha_prior_discretized.values()))\n",
    "    for alpha_selfish in alpha_range:\n",
    "        for alpha_social in alpha_range: \n",
    "            alpha_prior_discretized[(alpha_selfish, alpha_social)] = alpha_prior_discretized[(alpha_selfish, alpha_social)] / normalizing_factor\n",
    "            \n",
    "    params = {'available_actions': available_actions,\n",
    "              'alpha_selfish_set': alpha_selfish_set,\n",
    "              'alpha_social_set': alpha_social_set,\n",
    "              'alpha_target': alpha_target,\n",
    "              'selfish_utilities': selfish_utilities,\n",
    "              'social_utilities': social_utilities,\n",
    "              'target_utilities': target_utilities,\n",
    "              'alpha_prior': alpha_prior_discretized}\n",
    "\n",
    "    for j, key in enumerate(config.keys()):\n",
    "        utilities = [[i+1, action, selfish_utilities[key][action], social_utilities[key][action], target_utilities[key][action]] \n",
    "                     for i, action in enumerate(available_actions[key])]\n",
    "        print(f\"{key} utilities\")\n",
    "        print (tabulate(utilities, headers=[\"Action\", \"U_selfish\", \"U_social\", \"U_target\"]))\n",
    "        print(\"\\n\")\n",
    "\n",
    "    full_model_data = simulate(config_name, config, params, save=True)\n",
    "\n",
    "    return full_model_data\n",
    "\n",
    "def preprocess_data(model_data, data_preprocessor_name):\n",
    "    # preprocess data\n",
    "    data_preprocessor = importlib.import_module(data_preprocessor_name)\n",
    "    preprocessed_data = data_preprocessor.preprocess(model_data)\n",
    "    return preprocessed_data"
   ]
  },
  {
   "cell_type": "markdown",
   "metadata": {},
   "source": [
    "## Jordan & Rand, 2020 "
   ]
  },
  {
   "cell_type": "code",
   "execution_count": 3,
   "metadata": {},
   "outputs": [
    {
     "name": "stdout",
     "output_type": "stream",
     "text": [
      "Punishment-only utilities\n",
      "    Action        U_selfish    U_social    U_target\n",
      "--  ----------  -----------  ----------  ----------\n",
      " 1  Not-punish            0           0           0\n",
      " 2  Punish               -5          10         -50\n",
      "\n",
      "\n",
      "Help-only utilities\n",
      "    Action      U_selfish    U_social    U_target\n",
      "--  --------  -----------  ----------  ----------\n",
      " 1  Not-help            0           0           0\n",
      " 2  Help              -20          10          15\n",
      "\n",
      "\n",
      "Punishment-only: alpha_reputation_high = 350\n",
      "Punishment-only: alpha_reputation_low = 250.00500000000002\n",
      "Help-only: alpha_reputation_high = 350\n",
      "Help-only: alpha_reputation_low = 250.00500000000002\n",
      "Both - H: alpha_reputation_high = 350\n",
      "Both - H: alpha_reputation_low = 250.00500000000002\n",
      "Both - NH: alpha_reputation_high = 350\n",
      "Both - NH: alpha_reputation_low = 250.00500000000002\n",
      "Both - P: alpha_reputation_high = 350\n",
      "Both - P: alpha_reputation_low = 250.00500000000002\n",
      "Both - NP: alpha_reputation_high = 350\n",
      "Both - NP: alpha_reputation_low = 250.00500000000002\n",
      "paper/Jordan_Rand_2020/only_condition_audience1\n"
     ]
    },
    {
     "data": {
      "text/html": [
       "<div>\n",
       "<style scoped>\n",
       "    .dataframe tbody tr th:only-of-type {\n",
       "        vertical-align: middle;\n",
       "    }\n",
       "\n",
       "    .dataframe tbody tr th {\n",
       "        vertical-align: top;\n",
       "    }\n",
       "\n",
       "    .dataframe thead th {\n",
       "        text-align: right;\n",
       "    }\n",
       "</style>\n",
       "<table border=\"1\" class=\"dataframe\">\n",
       "  <thead>\n",
       "    <tr style=\"text-align: right;\">\n",
       "      <th></th>\n",
       "      <th>IV</th>\n",
       "      <th>condition</th>\n",
       "      <th>punish_prob</th>\n",
       "    </tr>\n",
       "  </thead>\n",
       "  <tbody>\n",
       "    <tr>\n",
       "      <th>0</th>\n",
       "      <td>P-only</td>\n",
       "      <td>Low audience value</td>\n",
       "      <td>0.373278</td>\n",
       "    </tr>\n",
       "    <tr>\n",
       "      <th>1</th>\n",
       "      <td>P-only</td>\n",
       "      <td>High audience value</td>\n",
       "      <td>0.435286</td>\n",
       "    </tr>\n",
       "    <tr>\n",
       "      <th>2</th>\n",
       "      <td>H + P</td>\n",
       "      <td>Low audience value</td>\n",
       "      <td>0.304664</td>\n",
       "    </tr>\n",
       "    <tr>\n",
       "      <th>3</th>\n",
       "      <td>H + P</td>\n",
       "      <td>High audience value</td>\n",
       "      <td>0.330397</td>\n",
       "    </tr>\n",
       "  </tbody>\n",
       "</table>\n",
       "</div>"
      ],
      "text/plain": [
       "       IV            condition  punish_prob\n",
       "0  P-only   Low audience value     0.373278\n",
       "1  P-only  High audience value     0.435286\n",
       "2   H + P   Low audience value     0.304664\n",
       "3   H + P  High audience value     0.330397"
      ]
     },
     "execution_count": 3,
     "metadata": {},
     "output_type": "execute_result"
    }
   ],
   "source": [
    "# simulate the model\n",
    "config_name = \"paper.Jordan_Rand_2020.only_condition_audience1\"\n",
    "config_both_name = \"paper.Jordan_Rand_2020.both_condition_audience1\"\n",
    "full_model_data = simulate_Jordan.simulate(config_name, config_both_name, save=True)\n",
    "\n",
    "# preprocess, suitable for plotting\n",
    "data_preprocessor_name = 'model_data.paper.Jordan_Rand_2020.preprocess'\n",
    "model_data = preprocess_data(full_model_data, data_preprocessor_name)\n",
    "model_data"
   ]
  },
  {
   "cell_type": "code",
   "execution_count": 5,
   "metadata": {},
   "outputs": [
    {
     "data": {
      "image/png": "[encoded data removed]",
      "text/plain": [
       "<Figure size 252x288 with 1 Axes>"
      ]
     },
     "metadata": {},
     "output_type": "display_data"
    }
   ],
   "source": [
    "color_palette = sns.color_palette(\"RdBu\", 10)\n",
    "plt.figure(figsize=(3.5,4), facecolor='white')\n",
    "palette = {\"Low audience value\": color_palette[3], \"High audience value\": color_palette[0]}\n",
    "\n",
    "ax = sns.barplot(x='IV', y='punish_prob', hue='condition',\n",
    "                 data=model_data, palette=palette)\n",
    "plt.ylim([0,1.05])\n",
    "ax.set_xticklabels(['P-only', 'H + P'])\n",
    "ax.spines['right'].set_visible(False)\n",
    "ax.spines['top'].set_visible(False)\n",
    "plt.xlabel(\"\")\n",
    "plt.ylabel(\"P(punish)\")\n",
    "for patch in ax.patches:\n",
    "    patch.set_edgecolor(color_palette[0])\n",
    "plt.legend(title=\"\", bbox_to_anchor=(1.8, 0.9, 0.3, 0.1), loc='best')\n",
    "\n",
    "plt.savefig(f\"results/model_figures/Jordan_Rand_2020_punish_prob.png\", dpi=1000, bbox_inches='tight')\n",
    "plt.show()"
   ]
  },
  {
   "cell_type": "markdown",
   "metadata": {},
   "source": [
    "## Batistoni et al., 2021"
   ]
  },
  {
   "cell_type": "markdown",
   "metadata": {},
   "source": [
    "### Stage 1: Decide whether to punish"
   ]
  },
  {
   "cell_type": "code",
   "execution_count": 3,
   "metadata": {},
   "outputs": [
    {
     "name": "stdout",
     "output_type": "stream",
     "text": [
      "Punisher utilities\n",
      "    Action        U_selfish    U_social    U_target\n",
      "--  ----------  -----------  ----------  ----------\n",
      " 1  Not-punish            0         0             0\n",
      " 2  Punish              -25         5.5         -55\n",
      "\n",
      "\n",
      "Punisher: alpha_reputation_high = 350\n",
      "Punisher: alpha_reputation_low = 250.00500000000002\n",
      "paper/Batistoni_2021/exp1_stage1_audience1\n"
     ]
    },
    {
     "data": {
      "text/html": [
       "<div>\n",
       "<style scoped>\n",
       "    .dataframe tbody tr th:only-of-type {\n",
       "        vertical-align: middle;\n",
       "    }\n",
       "\n",
       "    .dataframe tbody tr th {\n",
       "        vertical-align: top;\n",
       "    }\n",
       "\n",
       "    .dataframe thead th {\n",
       "        text-align: right;\n",
       "    }\n",
       "</style>\n",
       "<table border=\"1\" class=\"dataframe\">\n",
       "  <thead>\n",
       "    <tr style=\"text-align: right;\">\n",
       "      <th></th>\n",
       "      <th>IV</th>\n",
       "      <th>condition</th>\n",
       "      <th>punish_prob</th>\n",
       "    </tr>\n",
       "  </thead>\n",
       "  <tbody>\n",
       "    <tr>\n",
       "      <th>0</th>\n",
       "      <td>Punisher</td>\n",
       "      <td>Low audience value</td>\n",
       "      <td>0.394206</td>\n",
       "    </tr>\n",
       "    <tr>\n",
       "      <th>1</th>\n",
       "      <td>Punisher</td>\n",
       "      <td>High audience value</td>\n",
       "      <td>0.577528</td>\n",
       "    </tr>\n",
       "  </tbody>\n",
       "</table>\n",
       "</div>"
      ],
      "text/plain": [
       "         IV            condition  punish_prob\n",
       "0  Punisher   Low audience value     0.394206\n",
       "1  Punisher  High audience value     0.577528"
      ]
     },
     "execution_count": 3,
     "metadata": {},
     "output_type": "execute_result"
    }
   ],
   "source": [
    "# simulate the model\n",
    "config_name = \"paper.Batistoni_2021.exp1_stage1_audience1\"\n",
    "full_model_data = simulate_model(config_name)\n",
    "\n",
    "# preprocess, suitable for plotting\n",
    "data_preprocessor_name = 'model_data.paper.Batistoni_2021.preprocess_stage1'\n",
    "model_data = preprocess_data(full_model_data, data_preprocessor_name)\n",
    "model_data"
   ]
  },
  {
   "cell_type": "code",
   "execution_count": 4,
   "metadata": {},
   "outputs": [
    {
     "data": {
      "image/png": "[encoded data removed]",
      "text/plain": [
       "<Figure size 122.4x288 with 1 Axes>"
      ]
     },
     "metadata": {},
     "output_type": "display_data"
    }
   ],
   "source": [
    "color_palette = sns.color_palette(\"RdBu\", 10)\n",
    "palette = {\"Low audience value\": color_palette[3], \"High audience value\": color_palette[0]}\n",
    "\n",
    "plt.figure(figsize=(1.7,4), facecolor='white')\n",
    "ax = sns.barplot(x='IV', y='punish_prob', hue='condition', \n",
    "                 data=model_data, palette=palette)\n",
    "plt.ylim([0,1.05])\n",
    "ax.spines['right'].set_visible(False)\n",
    "ax.spines['top'].set_visible(False)\n",
    "plt.xlabel(\"\")\n",
    "ax.set(xticklabels=[])\n",
    "plt.ylabel(\"P(punish)\")\n",
    "for patch in ax.patches:\n",
    "    patch.set_edgecolor(color_palette[0])\n",
    "plt.legend(title=\"\", bbox_to_anchor=(3.60, 0.9, 0.3, 0.1), loc='best')\n",
    "\n",
    "plt.savefig(f\"results/model_figures/Batistoni_2021_punish_prob.png\", dpi=1000, bbox_inches='tight')\n",
    "plt.show()"
   ]
  },
  {
   "cell_type": "markdown",
   "metadata": {},
   "source": [
    "### Stage 2: Decide punishment severity"
   ]
  },
  {
   "cell_type": "code",
   "execution_count": 5,
   "metadata": {},
   "outputs": [
    {
     "name": "stdout",
     "output_type": "stream",
     "text": [
      "Punisher utilities\n",
      "      Action    U_selfish    U_social    U_target\n",
      "--  --------  -----------  ----------  ----------\n",
      " 1        10         -4.5    0.179862         -10\n",
      " 2        20         -9      0.474259         -20\n",
      " 3        30        -13.5    1.19203          -30\n",
      " 4        40        -18      2.68941          -40\n",
      " 5        50        -22.5    5                -50\n",
      " 6        60        -27      7.31059          -60\n",
      " 7        70        -31.5    8.80797          -70\n",
      " 8        80        -36      9.52574          -80\n",
      " 9        90        -40.5    9.82014          -90\n",
      "10       100        -45      9.93307         -100\n",
      "\n",
      "\n",
      "Punisher: alpha_reputation_high = 350\n",
      "Punisher: alpha_reputation_low = 250.00500000000002\n",
      "paper/Batistoni_2021/exp1_stage2_audience1\n"
     ]
    },
    {
     "data": {
      "text/html": [
       "<div>\n",
       "<style scoped>\n",
       "    .dataframe tbody tr th:only-of-type {\n",
       "        vertical-align: middle;\n",
       "    }\n",
       "\n",
       "    .dataframe tbody tr th {\n",
       "        vertical-align: top;\n",
       "    }\n",
       "\n",
       "    .dataframe thead th {\n",
       "        text-align: right;\n",
       "    }\n",
       "</style>\n",
       "<table border=\"1\" class=\"dataframe\">\n",
       "  <thead>\n",
       "    <tr style=\"text-align: right;\">\n",
       "      <th></th>\n",
       "      <th>IV</th>\n",
       "      <th>condition</th>\n",
       "      <th>punish_severity</th>\n",
       "    </tr>\n",
       "  </thead>\n",
       "  <tbody>\n",
       "    <tr>\n",
       "      <th>0</th>\n",
       "      <td>Punisher</td>\n",
       "      <td>Low audience value</td>\n",
       "      <td>46.748340</td>\n",
       "    </tr>\n",
       "    <tr>\n",
       "      <th>1</th>\n",
       "      <td>Punisher</td>\n",
       "      <td>High audience value</td>\n",
       "      <td>53.933706</td>\n",
       "    </tr>\n",
       "  </tbody>\n",
       "</table>\n",
       "</div>"
      ],
      "text/plain": [
       "         IV            condition  punish_severity\n",
       "0  Punisher   Low audience value        46.748340\n",
       "1  Punisher  High audience value        53.933706"
      ]
     },
     "execution_count": 5,
     "metadata": {},
     "output_type": "execute_result"
    }
   ],
   "source": [
    "# simulate the model\n",
    "config_name = \"paper.Batistoni_2021.exp1_stage2_audience1\"\n",
    "full_model_data = simulate_model(config_name)\n",
    "\n",
    "# preprocess, suitable for plotting\n",
    "data_preprocessor_name = 'model_data.paper.Batistoni_2021.preprocess_stage2'\n",
    "model_data = preprocess_data(full_model_data, data_preprocessor_name)\n",
    "model_data"
   ]
  },
  {
   "cell_type": "code",
   "execution_count": 6,
   "metadata": {},
   "outputs": [
    {
     "data": {
      "image/png": "[encoded data removed]",
      "text/plain": [
       "<Figure size 122.4x288 with 1 Axes>"
      ]
     },
     "metadata": {},
     "output_type": "display_data"
    }
   ],
   "source": [
    "plt.figure(figsize=(1.7,4), facecolor='white')\n",
    "ax = sns.barplot(x='IV', y='punish_severity', hue='condition', \n",
    "                 data=model_data, palette=palette)\n",
    "plt.ylim([0,101])\n",
    "ax.spines['right'].set_visible(False)\n",
    "ax.spines['top'].set_visible(False)\n",
    "plt.xlabel(\"\")\n",
    "ax.set(xticklabels=[])\n",
    "plt.ylabel(\"Punishment severity (%)\")\n",
    "for patch in ax.patches:\n",
    "    patch.set_edgecolor(color_palette[0])\n",
    "plt.legend(title=\"\", bbox_to_anchor=(3.60, 0.9, 0.3, 0.1), loc='best')\n",
    "    \n",
    "plt.savefig(f\"results/model_figures/Batistoni_2021_punish_severity_mean.png\", dpi=1000, bbox_inches='tight')\n",
    "plt.show()"
   ]
  },
  {
   "cell_type": "code",
   "execution_count": 7,
   "metadata": {},
   "outputs": [],
   "source": [
    "# preprocess, suitable for plotting\n",
    "data_preprocessor_name = 'model_data.paper.Batistoni_2021.preprocess_stage2_dist'\n",
    "model_data = preprocess_data(full_model_data, data_preprocessor_name)"
   ]
  },
  {
   "cell_type": "code",
   "execution_count": 8,
   "metadata": {},
   "outputs": [
    {
     "data": {
      "image/png": "[encoded data removed]",
      "text/plain": [
       "<Figure size 864x288 with 1 Axes>"
      ]
     },
     "metadata": {},
     "output_type": "display_data"
    }
   ],
   "source": [
    "plt.figure(figsize=(12,4), facecolor='white')\n",
    "ax = sns.barplot(x='IV', y='punish_prob', hue='condition', \n",
    "                 data=model_data, palette=palette)\n",
    "plt.ylim([0,1.05])\n",
    "ax.spines['right'].set_visible(False)\n",
    "ax.spines['top'].set_visible(False)\n",
    "plt.xlabel(\"Percentage of endowment invested in punishment\")\n",
    "plt.ylabel(\"P(action)\")\n",
    "for patch in ax.patches:\n",
    "    patch.set_edgecolor(color_palette[0])\n",
    "plt.legend(title=\"\", bbox_to_anchor=(0.70, 0.9, 0.3, 0.1), loc='best')\n",
    "\n",
    "plt.savefig(f\"results/model_figures/Batistoni_2021_punish_severity_dist.png\", dpi=1000, bbox_inches='tight')\n",
    "plt.show()"
   ]
  },
  {
   "cell_type": "markdown",
   "metadata": {},
   "source": [
    "## Rai, 2021"
   ]
  },
  {
   "cell_type": "code",
   "execution_count": 9,
   "metadata": {},
   "outputs": [
    {
     "name": "stdout",
     "output_type": "stream",
     "text": [
      "No-gain utilities\n",
      "    Action        U_selfish    U_social    U_target\n",
      "--  ----------  -----------  ----------  ----------\n",
      " 1  Not-punish            0           0           0\n",
      " 2  Punish                0          10          -5\n",
      "\n",
      "\n",
      "Small-gain utilities\n",
      "    Action        U_selfish    U_social    U_target\n",
      "--  ----------  -----------  ----------  ----------\n",
      " 1  Not-punish            0           0           0\n",
      " 2  Punish               15          10          -5\n",
      "\n",
      "\n",
      "No-gain: alpha_reputation_high = 350\n",
      "No-gain: alpha_reputation_low = 250.00500000000002\n",
      "Small-gain: alpha_reputation_high = 350\n",
      "Small-gain: alpha_reputation_low = 250.00500000000002\n",
      "paper/Rai_2021/exp1_audience1\n"
     ]
    },
    {
     "data": {
      "text/html": [
       "<div>\n",
       "<style scoped>\n",
       "    .dataframe tbody tr th:only-of-type {\n",
       "        vertical-align: middle;\n",
       "    }\n",
       "\n",
       "    .dataframe tbody tr th {\n",
       "        vertical-align: top;\n",
       "    }\n",
       "\n",
       "    .dataframe thead th {\n",
       "        text-align: right;\n",
       "    }\n",
       "</style>\n",
       "<table border=\"1\" class=\"dataframe\">\n",
       "  <thead>\n",
       "    <tr style=\"text-align: right;\">\n",
       "      <th></th>\n",
       "      <th>IV</th>\n",
       "      <th>condition</th>\n",
       "      <th>punish_prob</th>\n",
       "    </tr>\n",
       "  </thead>\n",
       "  <tbody>\n",
       "    <tr>\n",
       "      <th>0</th>\n",
       "      <td>No-gain</td>\n",
       "      <td>Base punisher</td>\n",
       "      <td>0.675377</td>\n",
       "    </tr>\n",
       "    <tr>\n",
       "      <th>1</th>\n",
       "      <td>Small-gain</td>\n",
       "      <td>Base punisher</td>\n",
       "      <td>0.794362</td>\n",
       "    </tr>\n",
       "    <tr>\n",
       "      <th>2</th>\n",
       "      <td>No-gain</td>\n",
       "      <td>Low audience value</td>\n",
       "      <td>0.675377</td>\n",
       "    </tr>\n",
       "    <tr>\n",
       "      <th>3</th>\n",
       "      <td>Small-gain</td>\n",
       "      <td>Low audience value</td>\n",
       "      <td>0.431482</td>\n",
       "    </tr>\n",
       "  </tbody>\n",
       "</table>\n",
       "</div>"
      ],
      "text/plain": [
       "           IV           condition  punish_prob\n",
       "0     No-gain       Base punisher     0.675377\n",
       "1  Small-gain       Base punisher     0.794362\n",
       "2     No-gain  Low audience value     0.675377\n",
       "3  Small-gain  Low audience value     0.431482"
      ]
     },
     "execution_count": 9,
     "metadata": {},
     "output_type": "execute_result"
    }
   ],
   "source": [
    "# simulate the model\n",
    "config_name = \"paper.Rai_2021.exp1_audience1\"\n",
    "full_model_data = simulate_model(config_name)\n",
    "\n",
    "# preprocess, suitable for plotting\n",
    "data_preprocessor_name = 'model_data.paper.Rai_2021.preprocess_exp1'\n",
    "model_data = preprocess_data(full_model_data, data_preprocessor_name)\n",
    "model_data"
   ]
  },
  {
   "cell_type": "code",
   "execution_count": 10,
   "metadata": {},
   "outputs": [
    {
     "data": {
      "image/png": "[encoded data removed]",
      "text/plain": [
       "<Figure size 144x288 with 1 Axes>"
      ]
     },
     "metadata": {},
     "output_type": "display_data"
    }
   ],
   "source": [
    "color_palette = sns.color_palette(\"RdBu\", 10)\n",
    "palette ={\"Base punisher\": color_palette[4], \"Low audience value\": color_palette[0]}\n",
    "\n",
    "tmp_data = model_data[model_data['condition']==\"Low audience value\"]\n",
    "plt.figure(figsize=(2,4), facecolor='white')\n",
    "ax = sns.barplot(x='IV', y='punish_prob',\n",
    "                 data=tmp_data, color=color_palette[3])\n",
    "plt.ylim([0,1.05])\n",
    "ax.set_xticklabels(['None', 'Small'])\n",
    "ax.spines['right'].set_visible(False)\n",
    "ax.spines['top'].set_visible(False)\n",
    "plt.xlabel(\"Gain\")\n",
    "plt.ylabel(\"P(punish)\")\n",
    "for patch in ax.patches:\n",
    "    patch.set_edgecolor(color_palette[0])\n",
    "# plt.legend(title=\"\", bbox_to_anchor=(1.0, 0.9, 0.3, 0.1), loc='best')\n",
    "    \n",
    "plt.savefig(f\"results/model_figures/Rai_2021_study1.png\", dpi=1000, bbox_inches='tight')\n",
    "plt.show()"
   ]
  },
  {
   "cell_type": "code",
   "execution_count": 11,
   "metadata": {},
   "outputs": [
    {
     "name": "stdout",
     "output_type": "stream",
     "text": [
      "No-gain utilities\n",
      "    Action        U_selfish    U_social    U_target\n",
      "--  ----------  -----------  ----------  ----------\n",
      " 1  Not-punish            0           0           0\n",
      " 2  Punish                0         100        -100\n",
      "\n",
      "\n",
      "Small-gain utilities\n",
      "    Action        U_selfish    U_social    U_target\n",
      "--  ----------  -----------  ----------  ----------\n",
      " 1  Not-punish            0           0           0\n",
      " 2  Punish                5         100        -100\n",
      "\n",
      "\n",
      "Large-gain utilities\n",
      "    Action        U_selfish    U_social    U_target\n",
      "--  ----------  -----------  ----------  ----------\n",
      " 1  Not-punish            0           0           0\n",
      " 2  Punish              500         100        -100\n",
      "\n",
      "\n",
      "No-gain: alpha_reputation_high = 1200\n",
      "No-gain: alpha_reputation_low = 857.1600000000001\n",
      "Small-gain: alpha_reputation_high = 1200\n",
      "Small-gain: alpha_reputation_low = 857.1600000000001\n",
      "Large-gain: alpha_reputation_high = 1200\n",
      "Large-gain: alpha_reputation_low = 857.1600000000001\n",
      "paper/Rai_2021/exp3a_audience1\n"
     ]
    },
    {
     "data": {
      "text/html": [
       "<div>\n",
       "<style scoped>\n",
       "    .dataframe tbody tr th:only-of-type {\n",
       "        vertical-align: middle;\n",
       "    }\n",
       "\n",
       "    .dataframe tbody tr th {\n",
       "        vertical-align: top;\n",
       "    }\n",
       "\n",
       "    .dataframe thead th {\n",
       "        text-align: right;\n",
       "    }\n",
       "</style>\n",
       "<table border=\"1\" class=\"dataframe\">\n",
       "  <thead>\n",
       "    <tr style=\"text-align: right;\">\n",
       "      <th></th>\n",
       "      <th>IV</th>\n",
       "      <th>condition</th>\n",
       "      <th>punish_prob</th>\n",
       "    </tr>\n",
       "  </thead>\n",
       "  <tbody>\n",
       "    <tr>\n",
       "      <th>0</th>\n",
       "      <td>No-gain</td>\n",
       "      <td>Base punisher</td>\n",
       "      <td>5.765077</td>\n",
       "    </tr>\n",
       "    <tr>\n",
       "      <th>1</th>\n",
       "      <td>Small-gain</td>\n",
       "      <td>Base punisher</td>\n",
       "      <td>5.840879</td>\n",
       "    </tr>\n",
       "    <tr>\n",
       "      <th>2</th>\n",
       "      <td>Large-gain</td>\n",
       "      <td>Base punisher</td>\n",
       "      <td>6.881644</td>\n",
       "    </tr>\n",
       "    <tr>\n",
       "      <th>3</th>\n",
       "      <td>No-gain</td>\n",
       "      <td>High audience value</td>\n",
       "      <td>5.765077</td>\n",
       "    </tr>\n",
       "    <tr>\n",
       "      <th>4</th>\n",
       "      <td>Small-gain</td>\n",
       "      <td>High audience value</td>\n",
       "      <td>5.027597</td>\n",
       "    </tr>\n",
       "    <tr>\n",
       "      <th>5</th>\n",
       "      <td>Large-gain</td>\n",
       "      <td>High audience value</td>\n",
       "      <td>5.793115</td>\n",
       "    </tr>\n",
       "  </tbody>\n",
       "</table>\n",
       "</div>"
      ],
      "text/plain": [
       "           IV            condition  punish_prob\n",
       "0     No-gain        Base punisher     5.765077\n",
       "1  Small-gain        Base punisher     5.840879\n",
       "2  Large-gain        Base punisher     6.881644\n",
       "3     No-gain  High audience value     5.765077\n",
       "4  Small-gain  High audience value     5.027597\n",
       "5  Large-gain  High audience value     5.793115"
      ]
     },
     "execution_count": 11,
     "metadata": {},
     "output_type": "execute_result"
    }
   ],
   "source": [
    "# simulate the model\n",
    "config_name = \"paper.Rai_2021.exp3a_audience1\"\n",
    "full_model_data = simulate_model(config_name)\n",
    "\n",
    "# preprocess, suitable for plotting\n",
    "data_preprocessor_name = 'model_data.paper.Rai_2021.preprocess_exp3a'\n",
    "model_data = preprocess_data(full_model_data, data_preprocessor_name)\n",
    "model_data"
   ]
  },
  {
   "cell_type": "code",
   "execution_count": 12,
   "metadata": {},
   "outputs": [
    {
     "data": {
      "image/png": "[encoded data removed]",
      "text/plain": [
       "<Figure size 216x288 with 1 Axes>"
      ]
     },
     "metadata": {},
     "output_type": "display_data"
    }
   ],
   "source": [
    "color_palette = sns.color_palette(\"RdBu\", 10)\n",
    "palette ={\"Base punisher\": color_palette[4], \"High audience value\": color_palette[0]}\n",
    "\n",
    "tmp_data = model_data[model_data['condition']==\"High audience value\"]\n",
    "plt.figure(figsize=(3,4), facecolor='white')\n",
    "ax = sns.barplot(x='IV', y='punish_prob',\n",
    "                 data=tmp_data, color=color_palette[0])\n",
    "plt.ylim([1,7])\n",
    "ax.set_xticklabels(['None', 'Small', 'Large'])\n",
    "ax.spines['right'].set_visible(False)\n",
    "ax.spines['top'].set_visible(False)\n",
    "plt.xlabel(\"Gain\")\n",
    "plt.ylabel(\"Willingness to punish\")\n",
    "for patch in ax.patches:\n",
    "    patch.set_edgecolor(color_palette[0])\n",
    "# plt.legend(title=\"\", bbox_to_anchor=(1.0, 0.9, 0.3, 0.1), loc='best')\n",
    "    \n",
    "plt.savefig(f\"results/model_figures/Rai_2021_study3a.png\", dpi=1000, bbox_inches='tight')\n",
    "plt.show()"
   ]
  },
  {
   "cell_type": "code",
   "execution_count": null,
   "metadata": {},
   "outputs": [],
   "source": []
  }
 ],
 "metadata": {
  "kernelspec": {
   "display_name": "Python 3",
   "language": "python",
   "name": "python3"
  },
  "language_info": {
   "codemirror_mode": {
    "name": "ipython",
    "version": 3
   },
   "file_extension": ".py",
   "mimetype": "text/x-python",
   "name": "python",
   "nbconvert_exporter": "python",
   "pygments_lexer": "ipython3",
   "version": "3.7.6"
  }
 },
 "nbformat": 4,
 "nbformat_minor": 4
}
