{
 "cells": [
  {
   "cell_type": "code",
   "execution_count": 2,
   "metadata": {},
   "outputs": [],
   "source": [
    "import importlib\n",
    "import numpy as np\n",
    "from scipy import stats\n",
    "from tabulate import tabulate\n",
    "import pandas as pd\n",
    "import os\n",
    "\n",
    "import matplotlib.pyplot as plt\n",
    "from matplotlib import cm\n",
    "import seaborn as sns\n",
    "import matplotlib\n",
    "\n",
    "plt.rcParams.update({'font.size': 16})"
   ]
  },
  {
   "cell_type": "code",
   "execution_count": 3,
   "metadata": {},
   "outputs": [],
   "source": [
    "def load_data(file_dir, file_name, data_preprocessor_name):\n",
    "    # load raw data\n",
    "    data = pd.read_csv(file_dir + file_name)\n",
    "    # preprocess data\n",
    "    data_preprocessor = importlib.import_module(data_preprocessor_name)\n",
    "    preprocessed_data = data_preprocessor.preprocess(data)\n",
    "    return preprocessed_data\n",
    "\n",
    "def punish_bar_plot(df, x_name, y_name, y_lim, xlabel, ylabel, title='', hue_name=None, fig_size=(3,4), fill_color='darkred'):\n",
    "    if hue_name is None:\n",
    "        sns.barplot(x=x_name, y=y_name,\n",
    "                   data=df, color=fill_color)\n",
    "    else:\n",
    "        sns.barplot(x=x_name, y=y_name, hue=hue_name,\n",
    "                   data=df)\n",
    "    plt.ylim(y_lim)\n",
    "    plt.xlabel(xlabel)\n",
    "    plt.ylabel(ylabel)\n",
    "    plt.title(title)"
   ]
  },
  {
   "cell_type": "markdown",
   "metadata": {},
   "source": [
    "## Jordan & Rand, 2020"
   ]
  },
  {
   "cell_type": "code",
   "execution_count": 4,
   "metadata": {},
   "outputs": [],
   "source": [
    "file_dir = 'data/Jordan_Rand_2020/'\n",
    "file_name = 'all_data.csv'\n",
    "data_preprocessor_name = 'data.Jordan_Rand_2020.preprocess'"
   ]
  },
  {
   "cell_type": "code",
   "execution_count": 5,
   "metadata": {},
   "outputs": [
    {
     "data": {
      "text/html": [
       "<div>\n",
       "<style scoped>\n",
       "    .dataframe tbody tr th:only-of-type {\n",
       "        vertical-align: middle;\n",
       "    }\n",
       "\n",
       "    .dataframe tbody tr th {\n",
       "        vertical-align: top;\n",
       "    }\n",
       "\n",
       "    .dataframe thead th {\n",
       "        text-align: right;\n",
       "    }\n",
       "</style>\n",
       "<table border=\"1\" class=\"dataframe\">\n",
       "  <thead>\n",
       "    <tr style=\"text-align: right;\">\n",
       "      <th></th>\n",
       "      <th>IV</th>\n",
       "      <th>condition</th>\n",
       "      <th>punish_prob</th>\n",
       "      <th>punish_prob_se</th>\n",
       "    </tr>\n",
       "  </thead>\n",
       "  <tbody>\n",
       "    <tr>\n",
       "      <th>0</th>\n",
       "      <td>Punishment-only</td>\n",
       "      <td>Private/Unspecified</td>\n",
       "      <td>0.326667</td>\n",
       "      <td>0.006362</td>\n",
       "    </tr>\n",
       "    <tr>\n",
       "      <th>1</th>\n",
       "      <td>Punishment-only</td>\n",
       "      <td>Observed</td>\n",
       "      <td>0.393357</td>\n",
       "      <td>0.006626</td>\n",
       "    </tr>\n",
       "    <tr>\n",
       "      <th>2</th>\n",
       "      <td>Helping+Punishment</td>\n",
       "      <td>Private/Unspecified</td>\n",
       "      <td>0.262267</td>\n",
       "      <td>0.005967</td>\n",
       "    </tr>\n",
       "    <tr>\n",
       "      <th>3</th>\n",
       "      <td>Helping+Punishment</td>\n",
       "      <td>Observed</td>\n",
       "      <td>0.255773</td>\n",
       "      <td>0.005918</td>\n",
       "    </tr>\n",
       "  </tbody>\n",
       "</table>\n",
       "</div>"
      ],
      "text/plain": [
       "                   IV            condition  punish_prob  punish_prob_se\n",
       "0     Punishment-only  Private/Unspecified     0.326667        0.006362\n",
       "1     Punishment-only             Observed     0.393357        0.006626\n",
       "2  Helping+Punishment  Private/Unspecified     0.262267        0.005967\n",
       "3  Helping+Punishment             Observed     0.255773        0.005918"
      ]
     },
     "execution_count": 5,
     "metadata": {},
     "output_type": "execute_result"
    }
   ],
   "source": [
    "real_data = load_data(file_dir, file_name, data_preprocessor_name)\n",
    "real_data"
   ]
  },
  {
   "cell_type": "code",
   "execution_count": 6,
   "metadata": {},
   "outputs": [
    {
     "data": {
      "image/png": "[encoded data removed]",
      "text/plain": [
       "<Figure size 252x288 with 1 Axes>"
      ]
     },
     "metadata": {},
     "output_type": "display_data"
    }
   ],
   "source": [
    "color_palette = sns.color_palette(\"BrBG\", 10)\n",
    "palette ={\"Private/Unspecified\": color_palette[3], \"Observed\": color_palette[0]}\n",
    "\n",
    "plt.figure(figsize=(3.5,4), facecolor='white')\n",
    "ax = sns.barplot(x='IV', y='punish_prob', hue='condition', \n",
    "                 data=real_data, palette=palette)\n",
    "plt.ylim([0,1.05])\n",
    "plt.xlabel(\"\")\n",
    "ax.set(xticklabels=['P-only', 'H + P'])\n",
    "ax.spines['right'].set_visible(False)\n",
    "ax.spines['top'].set_visible(False)\n",
    "plt.ylabel(\"P(punish)\")\n",
    "for patch in ax.patches:\n",
    "    patch.set_edgecolor(color_palette[0])\n",
    "for patch, se in zip(ax.patches, real_data['punish_prob_se']):\n",
    "    plt.errorbar(patch.get_x() + patch.get_width()/2, patch.get_height(), yerr=se, \n",
    "                 color='black', capsize=4)\n",
    "plt.legend(title=\"\", bbox_to_anchor=(2.00, 0.9, 0.3, 0.1), loc='best')\n",
    "    \n",
    "plt.savefig(f\"results/data_figures/Jordan_Rand_2020_HP_Ponly2.png\", dpi=1000, bbox_inches='tight')\n",
    "plt.show()"
   ]
  },
  {
   "cell_type": "markdown",
   "metadata": {},
   "source": [
    "## Batistoni et al., 2021"
   ]
  },
  {
   "cell_type": "code",
   "execution_count": 7,
   "metadata": {},
   "outputs": [],
   "source": [
    "file_dir = 'data/Batistoni_2021/'\n",
    "file_name = 'all_data.csv'\n",
    "data_preprocessor_name = 'data.Batistoni_2021.preprocess'"
   ]
  },
  {
   "cell_type": "code",
   "execution_count": 8,
   "metadata": {},
   "outputs": [
    {
     "data": {
      "text/html": [
       "<div>\n",
       "<style scoped>\n",
       "    .dataframe tbody tr th:only-of-type {\n",
       "        vertical-align: middle;\n",
       "    }\n",
       "\n",
       "    .dataframe tbody tr th {\n",
       "        vertical-align: top;\n",
       "    }\n",
       "\n",
       "    .dataframe thead th {\n",
       "        text-align: right;\n",
       "    }\n",
       "</style>\n",
       "<table border=\"1\" class=\"dataframe\">\n",
       "  <thead>\n",
       "    <tr style=\"text-align: right;\">\n",
       "      <th></th>\n",
       "      <th>IV</th>\n",
       "      <th>condition</th>\n",
       "      <th>punish_prob</th>\n",
       "      <th>punish_prob_se</th>\n",
       "      <th>punish_severity</th>\n",
       "      <th>punish_severity_se</th>\n",
       "    </tr>\n",
       "  </thead>\n",
       "  <tbody>\n",
       "    <tr>\n",
       "      <th>0</th>\n",
       "      <td>Punishment</td>\n",
       "      <td>Private/Anonymous</td>\n",
       "      <td>0.471947</td>\n",
       "      <td>0.016622</td>\n",
       "      <td>43.868741</td>\n",
       "      <td>0.756982</td>\n",
       "    </tr>\n",
       "    <tr>\n",
       "      <th>1</th>\n",
       "      <td>Punishment</td>\n",
       "      <td>Public/Observed</td>\n",
       "      <td>0.597938</td>\n",
       "      <td>0.016326</td>\n",
       "      <td>48.313908</td>\n",
       "      <td>0.853861</td>\n",
       "    </tr>\n",
       "  </tbody>\n",
       "</table>\n",
       "</div>"
      ],
      "text/plain": [
       "           IV          condition  punish_prob  punish_prob_se  \\\n",
       "0  Punishment  Private/Anonymous     0.471947        0.016622   \n",
       "1  Punishment    Public/Observed     0.597938        0.016326   \n",
       "\n",
       "   punish_severity  punish_severity_se  \n",
       "0        43.868741            0.756982  \n",
       "1        48.313908            0.853861  "
      ]
     },
     "execution_count": 8,
     "metadata": {},
     "output_type": "execute_result"
    }
   ],
   "source": [
    "real_data = load_data(file_dir, file_name, data_preprocessor_name)\n",
    "real_data"
   ]
  },
  {
   "cell_type": "code",
   "execution_count": 9,
   "metadata": {},
   "outputs": [
    {
     "data": {
      "image/png": "[encoded data removed]",
      "text/plain": [
       "<Figure size 122.4x288 with 1 Axes>"
      ]
     },
     "metadata": {},
     "output_type": "display_data"
    }
   ],
   "source": [
    "color_palette = sns.color_palette(\"BrBG\", 10)\n",
    "palette ={\"Private/Anonymous\": color_palette[3], \"Public/Observed\": color_palette[0]}\n",
    "\n",
    "plt.figure(figsize=(1.7,4), facecolor='white')\n",
    "ax = sns.barplot(x='IV', y='punish_prob', hue='condition', \n",
    "                 data=real_data, palette=palette)\n",
    "plt.ylim([0,1.05])\n",
    "ax.spines['right'].set_visible(False)\n",
    "ax.spines['top'].set_visible(False)\n",
    "plt.xlabel(\"\")\n",
    "ax.set(xticklabels=[])\n",
    "plt.ylabel(\"P(punish)\")\n",
    "for patch in ax.patches:\n",
    "    patch.set_edgecolor(color_palette[0])\n",
    "for patch, se in zip(ax.patches, real_data['punish_prob_se']):\n",
    "    plt.errorbar(patch.get_x() + patch.get_width()/2, patch.get_height(), yerr=se, \n",
    "                 color='black', capsize=4)\n",
    "plt.legend(title=\"\", bbox_to_anchor=(2.60, 0.9, 0.3, 0.1), loc='best')\n",
    "    \n",
    "plt.savefig(f\"results/data_figures/Batistoni_2021_punish_prob.png\", dpi=1000, bbox_inches='tight')\n",
    "plt.show()"
   ]
  },
  {
   "cell_type": "code",
   "execution_count": 10,
   "metadata": {},
   "outputs": [
    {
     "data": {
      "image/png": "[encoded data removed]",
      "text/plain": [
       "<Figure size 122.4x288 with 1 Axes>"
      ]
     },
     "metadata": {},
     "output_type": "display_data"
    }
   ],
   "source": [
    "plt.figure(figsize=(1.7,4), facecolor='white')\n",
    "ax = sns.barplot(x='IV', y='punish_severity', hue='condition', \n",
    "                 data=real_data, palette=palette)\n",
    "plt.ylim([0,101])\n",
    "ax.spines['right'].set_visible(False)\n",
    "ax.spines['top'].set_visible(False)\n",
    "plt.xlabel(\"\")\n",
    "ax.set(xticklabels=[])\n",
    "plt.ylabel(\"Punishment severity (%)\")\n",
    "for patch in ax.patches:\n",
    "    patch.set_edgecolor(color_palette[0])\n",
    "plt.legend(title=\"\", bbox_to_anchor=(2.60, 0.9, 0.3, 0.1), loc='best')\n",
    "for patch, se in zip(ax.patches, real_data['punish_severity_se']):\n",
    "    plt.errorbar(patch.get_x() + patch.get_width()/2, patch.get_height(), yerr=se, \n",
    "                 color='black', capsize=4)\n",
    "    \n",
    "plt.savefig(f\"results/data_figures/Batistoni_2021_punish_severity.png\", dpi=1000, bbox_inches='tight')\n",
    "plt.show()"
   ]
  },
  {
   "cell_type": "code",
   "execution_count": 11,
   "metadata": {},
   "outputs": [],
   "source": [
    "file_dir = 'data/Batistoni_2021/'\n",
    "file_name = 'all_data.csv'\n",
    "data_preprocessor_name = 'data.Batistoni_2021.preprocess_severity'"
   ]
  },
  {
   "cell_type": "code",
   "execution_count": 12,
   "metadata": {},
   "outputs": [
    {
     "data": {
      "text/html": [
       "<div>\n",
       "<style scoped>\n",
       "    .dataframe tbody tr th:only-of-type {\n",
       "        vertical-align: middle;\n",
       "    }\n",
       "\n",
       "    .dataframe tbody tr th {\n",
       "        vertical-align: top;\n",
       "    }\n",
       "\n",
       "    .dataframe thead th {\n",
       "        text-align: right;\n",
       "    }\n",
       "</style>\n",
       "<table border=\"1\" class=\"dataframe\">\n",
       "  <thead>\n",
       "    <tr style=\"text-align: right;\">\n",
       "      <th></th>\n",
       "      <th>IV</th>\n",
       "      <th>condition</th>\n",
       "      <th>punish_prob</th>\n",
       "      <th>punish_prob_se</th>\n",
       "    </tr>\n",
       "  </thead>\n",
       "  <tbody>\n",
       "    <tr>\n",
       "      <th>0</th>\n",
       "      <td>0-10</td>\n",
       "      <td>Private/Anonymous</td>\n",
       "      <td>0.534653</td>\n",
       "      <td>0.028655</td>\n",
       "    </tr>\n",
       "    <tr>\n",
       "      <th>1</th>\n",
       "      <td>10-20</td>\n",
       "      <td>Private/Anonymous</td>\n",
       "      <td>0.049505</td>\n",
       "      <td>0.012462</td>\n",
       "    </tr>\n",
       "    <tr>\n",
       "      <th>2</th>\n",
       "      <td>20-30</td>\n",
       "      <td>Private/Anonymous</td>\n",
       "      <td>0.072607</td>\n",
       "      <td>0.014907</td>\n",
       "    </tr>\n",
       "    <tr>\n",
       "      <th>3</th>\n",
       "      <td>30-40</td>\n",
       "      <td>Private/Anonymous</td>\n",
       "      <td>0.042904</td>\n",
       "      <td>0.011641</td>\n",
       "    </tr>\n",
       "    <tr>\n",
       "      <th>4</th>\n",
       "      <td>40-50</td>\n",
       "      <td>Private/Anonymous</td>\n",
       "      <td>0.128713</td>\n",
       "      <td>0.019238</td>\n",
       "    </tr>\n",
       "    <tr>\n",
       "      <th>5</th>\n",
       "      <td>50-60</td>\n",
       "      <td>Private/Anonymous</td>\n",
       "      <td>0.122112</td>\n",
       "      <td>0.018810</td>\n",
       "    </tr>\n",
       "    <tr>\n",
       "      <th>6</th>\n",
       "      <td>60-70</td>\n",
       "      <td>Private/Anonymous</td>\n",
       "      <td>0.006601</td>\n",
       "      <td>0.004652</td>\n",
       "    </tr>\n",
       "    <tr>\n",
       "      <th>7</th>\n",
       "      <td>70-80</td>\n",
       "      <td>Private/Anonymous</td>\n",
       "      <td>0.003300</td>\n",
       "      <td>0.003295</td>\n",
       "    </tr>\n",
       "    <tr>\n",
       "      <th>8</th>\n",
       "      <td>80-90</td>\n",
       "      <td>Private/Anonymous</td>\n",
       "      <td>0.006601</td>\n",
       "      <td>0.004652</td>\n",
       "    </tr>\n",
       "    <tr>\n",
       "      <th>9</th>\n",
       "      <td>90-100</td>\n",
       "      <td>Private/Anonymous</td>\n",
       "      <td>0.000000</td>\n",
       "      <td>0.000000</td>\n",
       "    </tr>\n",
       "    <tr>\n",
       "      <th>10</th>\n",
       "      <td>0-10</td>\n",
       "      <td>Public/Observed</td>\n",
       "      <td>0.405498</td>\n",
       "      <td>0.028782</td>\n",
       "    </tr>\n",
       "    <tr>\n",
       "      <th>11</th>\n",
       "      <td>10-20</td>\n",
       "      <td>Public/Observed</td>\n",
       "      <td>0.075601</td>\n",
       "      <td>0.015497</td>\n",
       "    </tr>\n",
       "    <tr>\n",
       "      <th>12</th>\n",
       "      <td>20-30</td>\n",
       "      <td>Public/Observed</td>\n",
       "      <td>0.072165</td>\n",
       "      <td>0.015169</td>\n",
       "    </tr>\n",
       "    <tr>\n",
       "      <th>13</th>\n",
       "      <td>30-40</td>\n",
       "      <td>Public/Observed</td>\n",
       "      <td>0.034364</td>\n",
       "      <td>0.010679</td>\n",
       "    </tr>\n",
       "    <tr>\n",
       "      <th>14</th>\n",
       "      <td>40-50</td>\n",
       "      <td>Public/Observed</td>\n",
       "      <td>0.147766</td>\n",
       "      <td>0.020803</td>\n",
       "    </tr>\n",
       "    <tr>\n",
       "      <th>15</th>\n",
       "      <td>50-60</td>\n",
       "      <td>Public/Observed</td>\n",
       "      <td>0.144330</td>\n",
       "      <td>0.020601</td>\n",
       "    </tr>\n",
       "    <tr>\n",
       "      <th>16</th>\n",
       "      <td>60-70</td>\n",
       "      <td>Public/Observed</td>\n",
       "      <td>0.030928</td>\n",
       "      <td>0.010149</td>\n",
       "    </tr>\n",
       "    <tr>\n",
       "      <th>17</th>\n",
       "      <td>70-80</td>\n",
       "      <td>Public/Observed</td>\n",
       "      <td>0.000000</td>\n",
       "      <td>0.000000</td>\n",
       "    </tr>\n",
       "    <tr>\n",
       "      <th>18</th>\n",
       "      <td>80-90</td>\n",
       "      <td>Public/Observed</td>\n",
       "      <td>0.030928</td>\n",
       "      <td>0.010149</td>\n",
       "    </tr>\n",
       "    <tr>\n",
       "      <th>19</th>\n",
       "      <td>90-100</td>\n",
       "      <td>Public/Observed</td>\n",
       "      <td>0.000000</td>\n",
       "      <td>0.000000</td>\n",
       "    </tr>\n",
       "  </tbody>\n",
       "</table>\n",
       "</div>"
      ],
      "text/plain": [
       "        IV          condition  punish_prob  punish_prob_se\n",
       "0     0-10  Private/Anonymous     0.534653        0.028655\n",
       "1    10-20  Private/Anonymous     0.049505        0.012462\n",
       "2    20-30  Private/Anonymous     0.072607        0.014907\n",
       "3    30-40  Private/Anonymous     0.042904        0.011641\n",
       "4    40-50  Private/Anonymous     0.128713        0.019238\n",
       "5    50-60  Private/Anonymous     0.122112        0.018810\n",
       "6    60-70  Private/Anonymous     0.006601        0.004652\n",
       "7    70-80  Private/Anonymous     0.003300        0.003295\n",
       "8    80-90  Private/Anonymous     0.006601        0.004652\n",
       "9   90-100  Private/Anonymous     0.000000        0.000000\n",
       "10    0-10    Public/Observed     0.405498        0.028782\n",
       "11   10-20    Public/Observed     0.075601        0.015497\n",
       "12   20-30    Public/Observed     0.072165        0.015169\n",
       "13   30-40    Public/Observed     0.034364        0.010679\n",
       "14   40-50    Public/Observed     0.147766        0.020803\n",
       "15   50-60    Public/Observed     0.144330        0.020601\n",
       "16   60-70    Public/Observed     0.030928        0.010149\n",
       "17   70-80    Public/Observed     0.000000        0.000000\n",
       "18   80-90    Public/Observed     0.030928        0.010149\n",
       "19  90-100    Public/Observed     0.000000        0.000000"
      ]
     },
     "execution_count": 12,
     "metadata": {},
     "output_type": "execute_result"
    }
   ],
   "source": [
    "real_data = load_data(file_dir, file_name, data_preprocessor_name)\n",
    "real_data"
   ]
  },
  {
   "cell_type": "code",
   "execution_count": 13,
   "metadata": {},
   "outputs": [
    {
     "data": {
      "image/png": "[encoded data removed]",
      "text/plain": [
       "<Figure size 864x288 with 1 Axes>"
      ]
     },
     "metadata": {},
     "output_type": "display_data"
    }
   ],
   "source": [
    "color_palette = sns.color_palette(\"BrBG\", 10)\n",
    "palette ={\"Private/Anonymous\": color_palette[3], \"Public/Observed\": color_palette[0]}\n",
    "\n",
    "plt.figure(figsize=(12,4), facecolor='white')\n",
    "ax = sns.barplot(x='IV', y='punish_prob', hue='condition', \n",
    "                 data=real_data, palette=palette)\n",
    "plt.ylim([0,1.05])\n",
    "ax.spines['right'].set_visible(False)\n",
    "ax.spines['top'].set_visible(False)\n",
    "plt.xlabel(\"Percentage of endowment invested in punishment\")\n",
    "plt.ylabel(\"P(action)\")\n",
    "for patch in ax.patches:\n",
    "    patch.set_edgecolor(color_palette[0])\n",
    "plt.legend(title=\"\", bbox_to_anchor=(0.75, 0.9, 0.3, 0.1), loc='best')\n",
    "for patch, se in zip(ax.patches, real_data['punish_prob_se']):\n",
    "    plt.errorbar(patch.get_x() + patch.get_width()/2, patch.get_height(), yerr=se, \n",
    "                 color='black', capsize=4)\n",
    "\n",
    "plt.savefig(f\"results/data_figures/Batistoni_2021_punish_severity2.png\", dpi=1000, bbox_inches='tight')\n",
    "plt.show()"
   ]
  },
  {
   "cell_type": "markdown",
   "metadata": {},
   "source": [
    "## Rai, 2021"
   ]
  },
  {
   "cell_type": "code",
   "execution_count": 14,
   "metadata": {},
   "outputs": [],
   "source": [
    "file_dir = 'data/Rai_2021/'\n",
    "file_name = 'exp1_data.csv'\n",
    "data_preprocessor_name = 'data.Rai_2021.preprocess'"
   ]
  },
  {
   "cell_type": "code",
   "execution_count": 15,
   "metadata": {},
   "outputs": [
    {
     "data": {
      "text/html": [
       "<div>\n",
       "<style scoped>\n",
       "    .dataframe tbody tr th:only-of-type {\n",
       "        vertical-align: middle;\n",
       "    }\n",
       "\n",
       "    .dataframe tbody tr th {\n",
       "        vertical-align: top;\n",
       "    }\n",
       "\n",
       "    .dataframe thead th {\n",
       "        text-align: right;\n",
       "    }\n",
       "</style>\n",
       "<table border=\"1\" class=\"dataframe\">\n",
       "  <thead>\n",
       "    <tr style=\"text-align: right;\">\n",
       "      <th></th>\n",
       "      <th>IV</th>\n",
       "      <th>punish_prob</th>\n",
       "      <th>punish_prob_se</th>\n",
       "    </tr>\n",
       "  </thead>\n",
       "  <tbody>\n",
       "    <tr>\n",
       "      <th>0</th>\n",
       "      <td>No-gain</td>\n",
       "      <td>0.71</td>\n",
       "      <td>0.045376</td>\n",
       "    </tr>\n",
       "    <tr>\n",
       "      <th>1</th>\n",
       "      <td>Small-gain</td>\n",
       "      <td>0.38</td>\n",
       "      <td>0.049411</td>\n",
       "    </tr>\n",
       "  </tbody>\n",
       "</table>\n",
       "</div>"
      ],
      "text/plain": [
       "           IV  punish_prob  punish_prob_se\n",
       "0     No-gain         0.71        0.045376\n",
       "1  Small-gain         0.38        0.049411"
      ]
     },
     "execution_count": 15,
     "metadata": {},
     "output_type": "execute_result"
    }
   ],
   "source": [
    "real_data = load_data(file_dir, file_name, data_preprocessor_name)\n",
    "real_data"
   ]
  },
  {
   "cell_type": "code",
   "execution_count": 16,
   "metadata": {},
   "outputs": [
    {
     "data": {
      "image/png": "[encoded data removed]",
      "text/plain": [
       "<Figure size 144x288 with 1 Axes>"
      ]
     },
     "metadata": {},
     "output_type": "display_data"
    }
   ],
   "source": [
    "color_palette = sns.color_palette(\"BrBG\", 10)\n",
    "plt.figure(figsize=(2,4), facecolor='white')\n",
    "ax = sns.barplot(x='IV', y='punish_prob', \n",
    "                 data=real_data, color=color_palette[3])\n",
    "plt.ylim([0,1.05])\n",
    "ax.set_xticklabels(['None', 'Small'])\n",
    "ax.spines['right'].set_visible(False)\n",
    "ax.spines['top'].set_visible(False)\n",
    "plt.xlabel(\"Gain\")\n",
    "plt.ylabel(\"P(punish)\")\n",
    "for patch in ax.patches:\n",
    "    patch.set_edgecolor(color_palette[0])\n",
    "for patch, se in zip(ax.patches, real_data['punish_prob_se']):\n",
    "    plt.errorbar(patch.get_x() + patch.get_width()/2, patch.get_height(), yerr=se, \n",
    "                 color='black', capsize=4)\n",
    "    \n",
    "plt.savefig(f\"results/data_figures/Rai_2021_study1.png\", dpi=1000, bbox_inches='tight')\n",
    "plt.show()"
   ]
  },
  {
   "cell_type": "code",
   "execution_count": 17,
   "metadata": {},
   "outputs": [],
   "source": [
    "file_dir = 'data/Rai_2021/'\n",
    "file_name = 'exp3a_data.csv'\n",
    "data_preprocessor_name = 'data.Rai_2021.preprocess'"
   ]
  },
  {
   "cell_type": "code",
   "execution_count": 18,
   "metadata": {},
   "outputs": [
    {
     "data": {
      "text/html": [
       "<div>\n",
       "<style scoped>\n",
       "    .dataframe tbody tr th:only-of-type {\n",
       "        vertical-align: middle;\n",
       "    }\n",
       "\n",
       "    .dataframe tbody tr th {\n",
       "        vertical-align: top;\n",
       "    }\n",
       "\n",
       "    .dataframe thead th {\n",
       "        text-align: right;\n",
       "    }\n",
       "</style>\n",
       "<table border=\"1\" class=\"dataframe\">\n",
       "  <thead>\n",
       "    <tr style=\"text-align: right;\">\n",
       "      <th></th>\n",
       "      <th>IV</th>\n",
       "      <th>punish_willingness</th>\n",
       "      <th>punish_willingness_se</th>\n",
       "    </tr>\n",
       "  </thead>\n",
       "  <tbody>\n",
       "    <tr>\n",
       "      <th>0</th>\n",
       "      <td>No-gain</td>\n",
       "      <td>5.58</td>\n",
       "      <td>0.119197</td>\n",
       "    </tr>\n",
       "    <tr>\n",
       "      <th>1</th>\n",
       "      <td>Small-gain</td>\n",
       "      <td>4.70</td>\n",
       "      <td>0.143963</td>\n",
       "    </tr>\n",
       "    <tr>\n",
       "      <th>2</th>\n",
       "      <td>Large-gain</td>\n",
       "      <td>5.59</td>\n",
       "      <td>0.131928</td>\n",
       "    </tr>\n",
       "  </tbody>\n",
       "</table>\n",
       "</div>"
      ],
      "text/plain": [
       "           IV  punish_willingness  punish_willingness_se\n",
       "0     No-gain                5.58               0.119197\n",
       "1  Small-gain                4.70               0.143963\n",
       "2  Large-gain                5.59               0.131928"
      ]
     },
     "execution_count": 18,
     "metadata": {},
     "output_type": "execute_result"
    }
   ],
   "source": [
    "real_data = load_data(file_dir, file_name, data_preprocessor_name)\n",
    "real_data"
   ]
  },
  {
   "cell_type": "code",
   "execution_count": 19,
   "metadata": {},
   "outputs": [
    {
     "data": {
      "image/png": "[encoded data removed]",
      "text/plain": [
       "<Figure size 216x288 with 1 Axes>"
      ]
     },
     "metadata": {},
     "output_type": "display_data"
    }
   ],
   "source": [
    "color_palette = sns.color_palette(\"BrBG\", 10)\n",
    "plt.figure(figsize=(3,4), facecolor='white')\n",
    "ax = sns.barplot(x='IV', y='punish_willingness', \n",
    "                 data=real_data, color=color_palette[0])\n",
    "plt.ylim([1,7])\n",
    "ax.set_xticklabels(['None', 'Small', 'Large'])\n",
    "ax.spines['right'].set_visible(False)\n",
    "ax.spines['top'].set_visible(False)\n",
    "plt.xlabel(\"Gain\")\n",
    "plt.ylabel(\"Willingness to punish\")\n",
    "for patch in ax.patches:\n",
    "    patch.set_edgecolor(color_palette[0])\n",
    "for patch, se in zip(ax.patches, real_data['punish_willingness_se']):\n",
    "    plt.errorbar(patch.get_x() + patch.get_width()/2, patch.get_height(), yerr=se, \n",
    "                 color='black', capsize=4)\n",
    "\n",
    "plt.savefig(f\"results/data_figures/Rai_2021_study3a.png\", dpi=1000, bbox_inches='tight')\n",
    "plt.show()"
   ]
  },
  {
   "cell_type": "code",
   "execution_count": null,
   "metadata": {},
   "outputs": [],
   "source": []
  }
 ],
 "metadata": {
  "kernelspec": {
   "display_name": "Python 3",
   "language": "python",
   "name": "python3"
  },
  "language_info": {
   "codemirror_mode": {
    "name": "ipython",
    "version": 3
   },
   "file_extension": ".py",
   "mimetype": "text/x-python",
   "name": "python",
   "nbconvert_exporter": "python",
   "pygments_lexer": "ipython3",
   "version": "3.7.6"
  }
 },
 "nbformat": 4,
 "nbformat_minor": 4
}
